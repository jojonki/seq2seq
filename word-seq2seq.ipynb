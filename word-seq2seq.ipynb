{
 "cells": [
  {
   "cell_type": "code",
   "execution_count": 1,
   "metadata": {},
   "outputs": [
    {
     "name": "stderr",
     "output_type": "stream",
     "text": [
      "Using TensorFlow backend.\n"
     ]
    }
   ],
   "source": [
    "from nltk.tokenize import word_tokenize\n",
    "from keras.models import Model\n",
    "from keras.layers import Input, LSTM, Dense, GRU, TimeDistributed, Activation\n",
    "from keras.layers.embeddings import Embedding\n",
    "import numpy as np"
   ]
  },
  {
   "cell_type": "code",
   "execution_count": 2,
   "metadata": {
    "collapsed": true
   },
   "outputs": [],
   "source": [
    "batch_size = 128\n",
    "n_epoch = 10\n",
    "latent_dim = 100\n",
    "n_samples = 10000\n",
    "data_path = 'fra-eng/fra.txt' # you have to download dataset from http://www.manythings.org/anki/"
   ]
  },
  {
   "cell_type": "code",
   "execution_count": 4,
   "metadata": {
    "collapsed": true
   },
   "outputs": [],
   "source": [
    "input_texts, target_texts = [], []\n",
    "input_vocab, target_vocab = set(), set()\n",
    "lines = open(data_path).read().split('\\n')\n",
    "for line in lines[:min(n_samples, len(lines) -1)]:\n",
    "    in_txt, tg_txt = line.split('\\t', 1)\n",
    "    in_txt = word_tokenize(in_txt)\n",
    "    tg_txt = ['\\t'] + word_tokenize(tg_txt) + ['\\n']\n",
    "    input_texts.append(in_txt)\n",
    "    target_texts.append(tg_txt)\n",
    "    for w in in_txt:\n",
    "        if w not in input_vocab:\n",
    "            input_vocab.add(w)\n",
    "    for w in tg_txt:\n",
    "        if w not in target_vocab:\n",
    "            target_vocab.add(w)\n",
    "\n",
    "input_vocab = ['UNK'] + sorted(list(input_vocab))\n",
    "target_vocab = ['UNK'] + sorted(list(target_vocab)) \n",
    "n_input_vocab = len(input_vocab)\n",
    "n_target_vocab = len(target_vocab)\n",
    "max_encoder_seq_len = max([len(txt) for txt in input_texts])\n",
    "max_decoder_seq_len = max([len(txt) for txt in target_texts])"
   ]
  },
  {
   "cell_type": "code",
   "execution_count": 5,
   "metadata": {},
   "outputs": [
    {
     "name": "stdout",
     "output_type": "stream",
     "text": [
      "n_input_vocab 2421\n",
      "n_target_vocab 4936\n",
      "max enc len 6\n",
      "max dec len 14\n"
     ]
    }
   ],
   "source": [
    "print('n_input_vocab', n_input_vocab)\n",
    "print('n_target_vocab', n_target_vocab)\n",
    "print('max enc len', max_encoder_seq_len)\n",
    "print('max dec len', max_decoder_seq_len)"
   ]
  },
  {
   "cell_type": "code",
   "execution_count": 7,
   "metadata": {
    "collapsed": true
   },
   "outputs": [],
   "source": [
    "input_w2i = {w:i for i,w in enumerate(input_vocab)}\n",
    "input_i2w = {i:w for i,w in enumerate(input_vocab)}\n",
    "target_w2i = {w:i for i,w in enumerate(target_vocab)}\n",
    "target_i2w = {i:w for i,w in enumerate(target_vocab)}"
   ]
  },
  {
   "cell_type": "code",
   "execution_count": 8,
   "metadata": {
    "collapsed": true
   },
   "outputs": [],
   "source": [
    "enc_input_data = np.zeros( (len(input_texts), max_encoder_seq_len) )\n",
    "dec_input_data = np.zeros( (len(input_texts), max_decoder_seq_len) )\n",
    "dec_target_data = np.zeros( (len(input_texts), max_decoder_seq_len, n_target_vocab) )\n",
    "\n",
    "for i, (in_text, tg_text) in enumerate(zip(input_texts, target_texts)):\n",
    "    for t, w in enumerate(in_text):\n",
    "        enc_input_data[i, t] = input_w2i[w]\n",
    "    for t, w in enumerate(tg_text):\n",
    "        dec_input_data[i, t] = target_w2i[w]\n",
    "        if t > 0:\n",
    "            dec_target_data[i, t-1, target_w2i[w]] = 1."
   ]
  },
  {
   "cell_type": "code",
   "execution_count": 9,
   "metadata": {},
   "outputs": [
    {
     "name": "stdout",
     "output_type": "stream",
     "text": [
      "input: ['Go', '.']\n",
      "enc in: [ 165.   11.    0.    0.    0.    0.]\n",
      "target: ['\\t', 'Va', '!', '\\n']\n",
      "enc tg: [[ 0.  0.  0. ...,  0.  0.  0.]\n",
      " [ 0.  0.  0. ...,  0.  0.  0.]\n",
      " [ 0.  0.  1. ...,  0.  0.  0.]\n",
      " ..., \n",
      " [ 0.  0.  0. ...,  0.  0.  0.]\n",
      " [ 0.  0.  0. ...,  0.  0.  0.]\n",
      " [ 0.  0.  0. ...,  0.  0.  0.]]\n"
     ]
    }
   ],
   "source": [
    "print('input:', input_texts[0])\n",
    "print('enc in:', enc_input_data[0])\n",
    "print('target:', target_texts[0])\n",
    "print('enc tg:', dec_target_data[0])"
   ]
  },
  {
   "cell_type": "code",
   "execution_count": 13,
   "metadata": {},
   "outputs": [
    {
     "name": "stdout",
     "output_type": "stream",
     "text": [
      "enc_input_data: (10000, 6)\n",
      "__________________________________________________________________________________________________\n",
      "Layer (type)                    Output Shape         Param #     Connected to                     \n",
      "==================================================================================================\n",
      "EncoderInput (InputLayer)       (None, None)         0                                            \n",
      "__________________________________________________________________________________________________\n",
      "DecoderInput (InputLayer)       (None, None)         0                                            \n",
      "__________________________________________________________________________________________________\n",
      "EncoderEmbedding (Embedding)    (None, None, 100)    242100      EncoderInput[0][0]               \n",
      "__________________________________________________________________________________________________\n",
      "DecoderEmbedding (Embedding)    (None, None, 100)    493600      DecoderInput[0][0]               \n",
      "__________________________________________________________________________________________________\n",
      "EncoderRNN (GRU)                [(None, 100), (None, 60300       EncoderEmbedding[0][0]           \n",
      "__________________________________________________________________________________________________\n",
      "DecoderGRU (GRU)                [(None, None, 100),  60300       DecoderEmbedding[0][0]           \n",
      "                                                                 EncoderRNN[0][1]                 \n",
      "__________________________________________________________________________________________________\n",
      "FinalDense (Dense)              (None, None, 4936)   498536      DecoderGRU[0][0]                 \n",
      "==================================================================================================\n",
      "Total params: 1,354,836\n",
      "Trainable params: 1,354,836\n",
      "Non-trainable params: 0\n",
      "__________________________________________________________________________________________________\n",
      "None\n"
     ]
    }
   ],
   "source": [
    "print('enc_input_data:', enc_input_data.shape) # (N, seq_len, vocab_size)\n",
    "# Encoder\n",
    "encoder_inputs = Input(shape=(None, ), name='EncoderInput')\n",
    "enc_input_embedding = Embedding(input_dim=n_input_vocab, output_dim=latent_dim, name='EncoderEmbedding')\n",
    "embedded_enc_inputs = enc_input_embedding(encoder_inputs)\n",
    "encoder = GRU(latent_dim, return_state=True, name='EncoderRNN')\n",
    "encoder_outputs, encoder_state_h = encoder(embedded_enc_inputs)\n",
    "\n",
    "# Decoder\n",
    "decoder_inputs = Input(shape=(None,), name='DecoderInput')\n",
    "dec_output_embedding = Embedding(input_dim=n_target_vocab, output_dim=latent_dim, name='DecoderEmbedding')\n",
    "embedded_dec_inputs = dec_output_embedding(decoder_inputs)\n",
    "decoder = GRU(latent_dim, return_sequences=True, return_state=True, name='DecoderGRU')\n",
    "decoder_outputs, _ = decoder(embedded_dec_inputs, initial_state=encoder_state_h)\n",
    "decoder_dense = Dense(n_target_vocab, activation='softmax', name='FinalDense')\n",
    "decoder_outputs = decoder_dense(decoder_outputs)\n",
    "model = Model([encoder_inputs, decoder_inputs], decoder_outputs)\n",
    "model.compile(optimizer='adam', loss='categorical_crossentropy', metrics=['accuracy'])\n",
    "print(model.summary())"
   ]
  },
  {
   "cell_type": "code",
   "execution_count": 14,
   "metadata": {},
   "outputs": [
    {
     "name": "stdout",
     "output_type": "stream",
     "text": [
      "Train on 8000 samples, validate on 2000 samples\n",
      "Epoch 1/30\n",
      "8000/8000 [==============================] - 6s 726us/step - loss: 2.4621 - acc: 0.0732 - val_loss: 2.2325 - val_acc: 0.0714\n",
      "Epoch 2/30\n",
      "8000/8000 [==============================] - 5s 639us/step - loss: 1.8206 - acc: 0.0822 - val_loss: 2.1745 - val_acc: 0.0900\n",
      "Epoch 3/30\n",
      "8000/8000 [==============================] - 5s 626us/step - loss: 1.7490 - acc: 0.0875 - val_loss: 2.1279 - val_acc: 0.0900\n",
      "Epoch 4/30\n",
      "8000/8000 [==============================] - 5s 644us/step - loss: 1.6842 - acc: 0.0902 - val_loss: 2.0638 - val_acc: 0.0951\n",
      "Epoch 5/30\n",
      "8000/8000 [==============================] - 5s 628us/step - loss: 1.5898 - acc: 0.1380 - val_loss: 1.9658 - val_acc: 0.1474\n",
      "Epoch 6/30\n",
      "8000/8000 [==============================] - 5s 638us/step - loss: 1.5064 - acc: 0.1473 - val_loss: 1.9108 - val_acc: 0.1476\n",
      "Epoch 7/30\n",
      "8000/8000 [==============================] - 5s 630us/step - loss: 1.4489 - acc: 0.1480 - val_loss: 1.8452 - val_acc: 0.1510\n",
      "Epoch 8/30\n",
      "8000/8000 [==============================] - 5s 640us/step - loss: 1.3888 - acc: 0.1505 - val_loss: 1.7856 - val_acc: 0.1528\n",
      "Epoch 9/30\n",
      "8000/8000 [==============================] - 5s 638us/step - loss: 1.3189 - acc: 0.1555 - val_loss: 1.7167 - val_acc: 0.1594\n",
      "Epoch 10/30\n",
      "8000/8000 [==============================] - 5s 628us/step - loss: 1.2434 - acc: 0.1705 - val_loss: 1.6668 - val_acc: 0.1726\n",
      "Epoch 11/30\n",
      "8000/8000 [==============================] - 5s 656us/step - loss: 1.1785 - acc: 0.1820 - val_loss: 1.6257 - val_acc: 0.1821\n",
      "Epoch 12/30\n",
      "8000/8000 [==============================] - 5s 616us/step - loss: 1.1240 - acc: 0.1883 - val_loss: 1.6008 - val_acc: 0.1883\n",
      "Epoch 13/30\n",
      "8000/8000 [==============================] - 5s 631us/step - loss: 1.0779 - acc: 0.1943 - val_loss: 1.5802 - val_acc: 0.1896\n",
      "Epoch 14/30\n",
      "8000/8000 [==============================] - 5s 615us/step - loss: 1.0362 - acc: 0.1983 - val_loss: 1.5592 - val_acc: 0.1925\n",
      "Epoch 15/30\n",
      "8000/8000 [==============================] - 5s 641us/step - loss: 0.9981 - acc: 0.2015 - val_loss: 1.5481 - val_acc: 0.1941\n",
      "Epoch 16/30\n",
      "8000/8000 [==============================] - 5s 620us/step - loss: 0.9639 - acc: 0.2046 - val_loss: 1.5337 - val_acc: 0.1963\n",
      "Epoch 17/30\n",
      "8000/8000 [==============================] - 5s 638us/step - loss: 0.9318 - acc: 0.2073 - val_loss: 1.5320 - val_acc: 0.1969\n",
      "Epoch 18/30\n",
      "8000/8000 [==============================] - 5s 619us/step - loss: 0.9025 - acc: 0.2099 - val_loss: 1.5220 - val_acc: 0.1985\n",
      "Epoch 19/30\n",
      "8000/8000 [==============================] - 5s 651us/step - loss: 0.8757 - acc: 0.2127 - val_loss: 1.5141 - val_acc: 0.2022\n",
      "Epoch 20/30\n",
      "8000/8000 [==============================] - 5s 612us/step - loss: 0.8492 - acc: 0.2166 - val_loss: 1.5111 - val_acc: 0.2018\n",
      "Epoch 21/30\n",
      "8000/8000 [==============================] - 5s 620us/step - loss: 0.8248 - acc: 0.2188 - val_loss: 1.5085 - val_acc: 0.2041\n",
      "Epoch 22/30\n",
      "8000/8000 [==============================] - 5s 635us/step - loss: 0.8021 - acc: 0.2213 - val_loss: 1.5068 - val_acc: 0.2038\n",
      "Epoch 23/30\n",
      "8000/8000 [==============================] - 5s 646us/step - loss: 0.7804 - acc: 0.2235 - val_loss: 1.5068 - val_acc: 0.2049\n",
      "Epoch 24/30\n",
      "8000/8000 [==============================] - 5s 619us/step - loss: 0.7599 - acc: 0.2256 - val_loss: 1.5059 - val_acc: 0.2054\n",
      "Epoch 25/30\n",
      "8000/8000 [==============================] - 5s 646us/step - loss: 0.7401 - acc: 0.2280 - val_loss: 1.5035 - val_acc: 0.2063\n",
      "Epoch 26/30\n",
      "8000/8000 [==============================] - 5s 610us/step - loss: 0.7215 - acc: 0.2298 - val_loss: 1.5072 - val_acc: 0.2058\n",
      "Epoch 27/30\n",
      "8000/8000 [==============================] - 5s 646us/step - loss: 0.7042 - acc: 0.2317 - val_loss: 1.5084 - val_acc: 0.2050\n",
      "Epoch 28/30\n",
      "8000/8000 [==============================] - 5s 608us/step - loss: 0.6881 - acc: 0.2335 - val_loss: 1.5099 - val_acc: 0.2055\n",
      "Epoch 29/30\n",
      "8000/8000 [==============================] - 5s 644us/step - loss: 0.6717 - acc: 0.2349 - val_loss: 1.5093 - val_acc: 0.2079\n",
      "Epoch 30/30\n",
      "8000/8000 [==============================] - 5s 626us/step - loss: 0.6562 - acc: 0.2370 - val_loss: 1.5100 - val_acc: 0.2077\n"
     ]
    },
    {
     "name": "stderr",
     "output_type": "stream",
     "text": [
      "/home/jonki/anaconda3/lib/python3.6/site-packages/keras/engine/topology.py:2344: UserWarning: Layer DecoderGRU was passed non-serializable keyword arguments: {'initial_state': [<tf.Tensor 'EncoderRNN/while/Exit_2:0' shape=(?, 100) dtype=float32>]}. They will not be included in the serialized model (and thus will be missing at deserialization time).\n",
      "  str(node.arguments) + '. They will not be included '\n"
     ]
    }
   ],
   "source": [
    "model.fit([enc_input_data, dec_input_data], dec_target_data,\n",
    "          batch_size=batch_size,\n",
    "          epochs=30,\n",
    "          validation_split=.2)\n",
    "model.save('seq2seq_word.h5')"
   ]
  },
  {
   "cell_type": "markdown",
   "metadata": {},
   "source": [
    "# Inference"
   ]
  },
  {
   "cell_type": "code",
   "execution_count": 15,
   "metadata": {},
   "outputs": [
    {
     "name": "stdout",
     "output_type": "stream",
     "text": [
      "Encoder Model\n",
      "_________________________________________________________________\n",
      "Layer (type)                 Output Shape              Param #   \n",
      "=================================================================\n",
      "EncoderInput (InputLayer)    (None, None)              0         \n",
      "_________________________________________________________________\n",
      "EncoderEmbedding (Embedding) (None, None, 100)         242100    \n",
      "_________________________________________________________________\n",
      "EncoderRNN (GRU)             [(None, 100), (None, 100) 60300     \n",
      "=================================================================\n",
      "Total params: 302,400\n",
      "Trainable params: 302,400\n",
      "Non-trainable params: 0\n",
      "_________________________________________________________________\n",
      "None\n",
      "Decoder Model\n",
      "__________________________________________________________________________________________________\n",
      "Layer (type)                    Output Shape         Param #     Connected to                     \n",
      "==================================================================================================\n",
      "InfDecoderInput (InputLayer)    (None, None)         0                                            \n",
      "__________________________________________________________________________________________________\n",
      "DecoderEmbedding (Embedding)    (None, None, 100)    493600      InfDecoderInput[0][0]            \n",
      "__________________________________________________________________________________________________\n",
      "decoder_state_input_h (InputLay (None, 100)          0                                            \n",
      "__________________________________________________________________________________________________\n",
      "DecoderGRU (GRU)                [(None, None, 100),  60300       DecoderEmbedding[1][0]           \n",
      "                                                                 decoder_state_input_h[0][0]      \n",
      "__________________________________________________________________________________________________\n",
      "FinalDense (Dense)              (None, None, 4936)   498536      DecoderGRU[1][0]                 \n",
      "==================================================================================================\n",
      "Total params: 1,052,436\n",
      "Trainable params: 1,052,436\n",
      "Non-trainable params: 0\n",
      "__________________________________________________________________________________________________\n",
      "None\n"
     ]
    }
   ],
   "source": [
    "encoder_model = Model(encoder_inputs, encoder_state_h) # ((?, ?), (?, 100))\n",
    "\n",
    "decoder_state_input_h = Input(shape=(latent_dim,), name='decoder_state_input_h')\n",
    "decoder_inputs = Input(shape=(None,), name='InfDecoderInput')\n",
    "embedded_dec_inputs = dec_output_embedding(decoder_inputs)\n",
    "decoder_outputs, decoder_state_h = decoder(embedded_dec_inputs, initial_state=decoder_state_input_h)\n",
    "decoder_outputs = decoder_dense(decoder_outputs)\n",
    "decoder_model = Model(\n",
    "    [decoder_inputs, decoder_state_input_h],\n",
    "    [decoder_outputs, decoder_state_h],\n",
    "    name='InfDecoderModel'\n",
    ")\n",
    "print('Encoder Model')\n",
    "print(encoder_model.summary())\n",
    "print('Decoder Model')\n",
    "print(decoder_model.summary())"
   ]
  },
  {
   "cell_type": "code",
   "execution_count": 28,
   "metadata": {},
   "outputs": [
    {
     "name": "stdout",
     "output_type": "stream",
     "text": [
      "----\n",
      "input sentence: ['Go', '.']\n",
      "decoded sentence:  Fais un verre !\n",
      "correct sentence: Va !\n",
      "----\n",
      "input sentence: ['Run', '!']\n",
      "decoded sentence:  Bien joué ! \n",
      "correct sentence: Cours !\n",
      "----\n",
      "input sentence: ['Run', '!']\n",
      "decoded sentence:  Bien joué ! \n",
      "correct sentence: Courez !\n",
      "----\n",
      "input sentence: ['Wow', '!']\n",
      "decoded sentence:  Ça a l'air bien\n",
      "correct sentence: Ça alors !\n",
      "----\n",
      "input sentence: ['Fire', '!']\n",
      "decoded sentence:  Quelle ? \n",
      "correct sentence: Au feu !\n",
      "----\n",
      "input sentence: ['Help', '!']\n",
      "decoded sentence:  Allons-y ! \n",
      "correct sentence: À l'aide !\n",
      "----\n",
      "input sentence: ['Jump', '.']\n",
      "decoded sentence:  Parle avec moi\n",
      "correct sentence: Saute .\n",
      "----\n",
      "input sentence: ['Stop', '!']\n",
      "decoded sentence:  Arrêtez ! \n",
      "correct sentence: Ça suffit !\n",
      "----\n",
      "input sentence: ['Stop', '!']\n",
      "decoded sentence:  Arrêtez ! \n",
      "correct sentence: Stop !\n",
      "----\n",
      "input sentence: ['Stop', '!']\n",
      "decoded sentence:  Arrêtez ! \n",
      "correct sentence: Arrête-toi !\n"
     ]
    }
   ],
   "source": [
    "def decode_sequence(input_seq):\n",
    "    states_value = encoder_model.predict(input_seq)\n",
    "    \n",
    "    target_seq = np.zeros((1, 1)) # (n_samples, seq_len)\n",
    "    target_seq[0, 0] = target_w2i['\\t'] # start character\n",
    "    \n",
    "    stop_cond = False\n",
    "    decoded_sentence = ''\n",
    "    while not stop_cond:\n",
    "        output_tokens, h = decoder_model.predict([target_seq, states_value])\n",
    "\n",
    "        sampled_token_index = np.argmax(output_tokens[0, -1, :])\n",
    "        sampled_word = target_i2w[sampled_token_index]\n",
    "        decoded_sentence += ' ' + sampled_word\n",
    "        \n",
    "        if sampled_word == '\\n' or len(decoded_sentence) > max_decoder_seq_len:\n",
    "            if decoded_sentence[-1] == '\\n':\n",
    "                decoded_sentence = decoded_sentence[:-1]\n",
    "            stop_cond = True\n",
    "        \n",
    "        target_seq = np.zeros((1, 1))\n",
    "        target_seq[0, 0] = sampled_token_index\n",
    "        \n",
    "        states_value = h\n",
    "    \n",
    "    return decoded_sentence\n",
    "\n",
    "for seq_idx in range(10):\n",
    "    input_seq = enc_input_data[seq_idx: seq_idx+1]\n",
    "    decoded_sentence = decode_sequence(input_seq)\n",
    "    print('----')\n",
    "    print('input sentence:', input_texts[seq_idx])\n",
    "    print('decoded sentence:', decoded_sentence)\n",
    "    print('correct sentence:', ' '.join(target_texts[seq_idx][1:-1]))"
   ]
  }
 ],
 "metadata": {
  "kernelspec": {
   "display_name": "Python 3",
   "language": "python",
   "name": "python3"
  },
  "language_info": {
   "codemirror_mode": {
    "name": "ipython",
    "version": 3
   },
   "file_extension": ".py",
   "mimetype": "text/x-python",
   "name": "python",
   "nbconvert_exporter": "python",
   "pygments_lexer": "ipython3",
   "version": "3.6.1"
  }
 },
 "nbformat": 4,
 "nbformat_minor": 2
}
