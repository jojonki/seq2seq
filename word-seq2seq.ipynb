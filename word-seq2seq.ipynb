{
 "cells": [
  {
   "cell_type": "code",
   "execution_count": 1,
   "metadata": {},
   "outputs": [
    {
     "name": "stderr",
     "output_type": "stream",
     "text": [
      "Using TensorFlow backend.\n"
     ]
    }
   ],
   "source": [
    "from nltk.tokenize import word_tokenize\n",
    "from keras.models import Model\n",
    "from keras.layers import Input, LSTM, Dense, GRU, TimeDistributed, Activation\n",
    "from keras.layers.embeddings import Embedding\n",
    "import numpy as np"
   ]
  },
  {
   "cell_type": "code",
   "execution_count": 2,
   "metadata": {
    "collapsed": true
   },
   "outputs": [],
   "source": [
    "batch_size = 128\n",
    "n_epoch = 10\n",
    "latent_dim = 100\n",
    "n_samples = 10000\n",
    "data_path = 'fra-eng/fra.txt' # you have to download dataset from http://www.manythings.org/anki/"
   ]
  },
  {
   "cell_type": "code",
   "execution_count": 3,
   "metadata": {
    "collapsed": true
   },
   "outputs": [],
   "source": [
    "input_texts, target_texts = [], []\n",
    "input_vocab, target_vocab = set(), set()\n",
    "lines = open(data_path).read().split('\\n')\n",
    "for line in lines[:min(n_samples, len(lines) -1)]:\n",
    "    in_txt, tg_txt = line.split('\\t', 1)\n",
    "    in_txt = word_tokenize(in_txt)\n",
    "    tg_txt = ['\\t'] + word_tokenize(tg_txt) + ['\\n']\n",
    "#     tg_txt = '\\t' + tg_txt + '\\n' # \\t for <start> word and \\n for <end> word for Decoder\n",
    "    input_texts.append(in_txt)\n",
    "    target_texts.append(tg_txt)\n",
    "    for w in in_txt:\n",
    "        if w not in input_vocab:\n",
    "            input_vocab.add(w)\n",
    "    for w in tg_txt:\n",
    "        if w not in target_vocab:\n",
    "            target_vocab.add(w)\n",
    "\n",
    "input_vocab = sorted(list(input_vocab))\n",
    "target_vocab = sorted(list(target_vocab)) \n",
    "n_input_vocab = len(input_vocab)\n",
    "n_target_vocab = len(target_vocab)\n",
    "max_encoder_seq_len = max([len(txt) for txt in input_texts])\n",
    "max_decoder_seq_len = max([len(txt) for txt in target_texts])"
   ]
  },
  {
   "cell_type": "code",
   "execution_count": 4,
   "metadata": {},
   "outputs": [
    {
     "name": "stdout",
     "output_type": "stream",
     "text": [
      "n_input_vocab 2420\n",
      "n_target_vocab 4935\n",
      "max enc len 6\n",
      "max dec len 14\n"
     ]
    }
   ],
   "source": [
    "print('n_input_vocab', n_input_vocab)\n",
    "print('n_target_vocab', n_target_vocab)\n",
    "print('max enc len', max_encoder_seq_len)\n",
    "print('max dec len', max_decoder_seq_len)"
   ]
  },
  {
   "cell_type": "code",
   "execution_count": 5,
   "metadata": {},
   "outputs": [
    {
     "name": "stdout",
     "output_type": "stream",
     "text": [
      "['Go', '.']\n",
      "['\\t', 'Va', '!', '\\n']\n"
     ]
    }
   ],
   "source": []
  },
  {
   "cell_type": "code",
   "execution_count": 6,
   "metadata": {
    "collapsed": true
   },
   "outputs": [],
   "source": [
    "input_w2i = {w:i for i,w in enumerate(input_vocab)}\n",
    "input_i2w = {i:w for i,w in enumerate(input_vocab)}\n",
    "target_w2i = {w:i for i,w in enumerate(target_vocab)}\n",
    "target_i2w = {i:w for i,w in enumerate(target_vocab)}"
   ]
  },
  {
   "cell_type": "code",
   "execution_count": 7,
   "metadata": {
    "collapsed": true
   },
   "outputs": [],
   "source": [
    "enc_input_data = np.zeros( (len(input_texts), max_encoder_seq_len) )\n",
    "dec_input_data = np.zeros( (len(input_texts), max_decoder_seq_len) )\n",
    "dec_target_data = np.zeros( (len(input_texts), max_decoder_seq_len, n_target_vocab) )\n",
    "\n",
    "for i, (in_text, tg_text) in enumerate(zip(input_texts, target_texts)):\n",
    "    for t, w in enumerate(in_text):\n",
    "        enc_input_data[i, t] = input_w2i[w]\n",
    "    for t, w in enumerate(tg_text):\n",
    "        dec_input_data[i, t] = target_w2i[w]\n",
    "        if t > 0:\n",
    "            dec_target_data[i, t-1, target_w2i[w]] = 1."
   ]
  },
  {
   "cell_type": "code",
   "execution_count": 46,
   "metadata": {},
   "outputs": [
    {
     "name": "stdout",
     "output_type": "stream",
     "text": [
      "input: ['Go', '.']\n",
      "enc in: [ 164.   10.    0.    0.    0.    0.]\n",
      "target: ['\\t', 'Va', '!', '\\n']\n",
      "enc tg: [[ 0.  0.  0. ...,  0.  0.  0.]\n",
      " [ 0.  0.  1. ...,  0.  0.  0.]\n",
      " [ 0.  1.  0. ...,  0.  0.  0.]\n",
      " ..., \n",
      " [ 0.  0.  0. ...,  0.  0.  0.]\n",
      " [ 0.  0.  0. ...,  0.  0.  0.]\n",
      " [ 0.  0.  0. ...,  0.  0.  0.]]\n"
     ]
    }
   ],
   "source": [
    "print('input:', input_texts[0])\n",
    "print('enc in:', enc_input_data[0])\n",
    "print('target:', target_texts[0])\n",
    "print('enc tg:', dec_target_data[0])"
   ]
  },
  {
   "cell_type": "code",
   "execution_count": null,
   "metadata": {
    "collapsed": true
   },
   "outputs": [],
   "source": []
  },
  {
   "cell_type": "code",
   "execution_count": 51,
   "metadata": {},
   "outputs": [
    {
     "name": "stdout",
     "output_type": "stream",
     "text": [
      "enc_input_data: (10000, 6)\n",
      "encInputs (?, ?)\n",
      "embd_enc_inputs (?, ?, 100)\n",
      "encoder_outputs (?, 100)\n",
      "encoder_state_h (?, 100)\n",
      "embedded_dec_inputs (?, ?, 100)\n",
      "decoder_coutputs (?, ?, 4935)\n",
      "__________________________________________________________________________________________________\n",
      "Layer (type)                    Output Shape         Param #     Connected to                     \n",
      "==================================================================================================\n",
      "EncoderInput (InputLayer)       (None, None)         0                                            \n",
      "__________________________________________________________________________________________________\n",
      "DecoderInput (InputLayer)       (None, None)         0                                            \n",
      "__________________________________________________________________________________________________\n",
      "EncoderEmbedding (Embedding)    (None, None, 100)    242000      EncoderInput[0][0]               \n",
      "__________________________________________________________________________________________________\n",
      "DecoderEmbedding (Embedding)    (None, None, 100)    493500      DecoderInput[0][0]               \n",
      "__________________________________________________________________________________________________\n",
      "EncoderRNN (GRU)                [(None, 100), (None, 60300       EncoderEmbedding[0][0]           \n",
      "__________________________________________________________________________________________________\n",
      "DecoderGRU (GRU)                [(None, None, 100),  60300       DecoderEmbedding[0][0]           \n",
      "                                                                 EncoderRNN[0][1]                 \n",
      "__________________________________________________________________________________________________\n",
      "FinalDense (Dense)              (None, None, 4935)   498435      DecoderGRU[0][0]                 \n",
      "==================================================================================================\n",
      "Total params: 1,354,535\n",
      "Trainable params: 1,354,535\n",
      "Non-trainable params: 0\n",
      "__________________________________________________________________________________________________\n",
      "None\n"
     ]
    }
   ],
   "source": [
    "print('enc_input_data:', enc_input_data.shape) # (N, seq_len, vocab_size)\n",
    "# Encoder\n",
    "# embd_size = 100\n",
    "encoder_inputs = Input(shape=(None, ), name='EncoderInput')\n",
    "print('encInputs', encoder_inputs.shape)\n",
    "# enc_input_embedding = Embedding(input_dim=n_input_vocab, output_dim=latent_dim, input_length=max_encoder_seq_len, name='EncoderEmbedding')\n",
    "enc_input_embedding = Embedding(input_dim=n_input_vocab, output_dim=latent_dim, name='EncoderEmbedding')\n",
    "embedded_enc_inputs = enc_input_embedding(encoder_inputs)\n",
    "print('embd_enc_inputs', embedded_enc_inputs.shape)\n",
    "encoder = GRU(latent_dim, return_state=True, name='EncoderRNN')\n",
    "encoder_outputs, encoder_state_h = encoder(embedded_enc_inputs)\n",
    "print('encoder_outputs', encoder_outputs.shape)\n",
    "print('encoder_state_h', encoder_state_h.shape)\n",
    "# encoder_states = [state_h] # The decoder use only last output of the encoder and discard encoder_outputs\n",
    "# print(state_h.shape, encoder_states[0].shape)\n",
    "\n",
    "# Decoder\n",
    "decoder_inputs = Input(shape=(None,), name='DecoderInput')\n",
    "# dec_output_embedding = Embedding(input_dim=n_target_vocab, output_dim=embd_size, input_length=max_decoder_seq_len, name='DecoderEmbedding')\n",
    "dec_output_embedding = Embedding(input_dim=n_target_vocab, output_dim=latent_dim, name='DecoderEmbedding')\n",
    "# embedded_dec_inputs = Activation('relu')(dec_output_embedding(decoder_inputs))\n",
    "embedded_dec_inputs = dec_output_embedding(decoder_inputs)\n",
    "decoder = GRU(latent_dim, return_sequences=True, return_state=True, name='DecoderGRU')\n",
    "print('embedded_dec_inputs', embedded_dec_inputs.shape)\n",
    "decoder_outputs, _ = decoder(embedded_dec_inputs, initial_state=encoder_state_h)\n",
    "decoder_dense = Dense(n_target_vocab, activation='softmax', name='FinalDense')\n",
    "decoder_outputs = decoder_dense(decoder_outputs)\n",
    "print('decoder_coutputs', decoder_outputs.shape)\n",
    "model = Model([encoder_inputs, decoder_inputs], decoder_outputs)\n",
    "model.compile(optimizer='adam', loss='categorical_crossentropy', metrics=['accuracy'])\n",
    "print(model.summary())"
   ]
  },
  {
   "cell_type": "code",
   "execution_count": 71,
   "metadata": {},
   "outputs": [
    {
     "name": "stdout",
     "output_type": "stream",
     "text": [
      "Train on 8000 samples, validate on 2000 samples\n",
      "Epoch 1/15\n",
      "8000/8000 [==============================] - 5s 654us/step - loss: 0.7229 - acc: 0.2274 - val_loss: 1.5037 - val_acc: 0.2097\n",
      "Epoch 2/15\n",
      "8000/8000 [==============================] - 5s 634us/step - loss: 0.7070 - acc: 0.2294 - val_loss: 1.5026 - val_acc: 0.2109\n",
      "Epoch 3/15\n",
      "8000/8000 [==============================] - 5s 681us/step - loss: 0.6911 - acc: 0.2317 - val_loss: 1.5067 - val_acc: 0.2092\n",
      "Epoch 4/15\n",
      "8000/8000 [==============================] - 5s 637us/step - loss: 0.6759 - acc: 0.2332 - val_loss: 1.5096 - val_acc: 0.2102\n",
      "Epoch 5/15\n",
      "8000/8000 [==============================] - 5s 643us/step - loss: 0.6616 - acc: 0.2349 - val_loss: 1.5076 - val_acc: 0.2128\n",
      "Epoch 6/15\n",
      "8000/8000 [==============================] - 5s 638us/step - loss: 0.6473 - acc: 0.2377 - val_loss: 1.5103 - val_acc: 0.2108\n",
      "Epoch 7/15\n",
      "8000/8000 [==============================] - 5s 643us/step - loss: 0.6339 - acc: 0.2389 - val_loss: 1.5147 - val_acc: 0.2116\n",
      "Epoch 8/15\n",
      "8000/8000 [==============================] - 5s 647us/step - loss: 0.6203 - acc: 0.2413 - val_loss: 1.5173 - val_acc: 0.2124\n",
      "Epoch 9/15\n",
      "8000/8000 [==============================] - 5s 621us/step - loss: 0.6086 - acc: 0.2427 - val_loss: 1.5189 - val_acc: 0.2122\n",
      "Epoch 10/15\n",
      "8000/8000 [==============================] - 5s 643us/step - loss: 0.5972 - acc: 0.2442 - val_loss: 1.5222 - val_acc: 0.2128\n",
      "Epoch 11/15\n",
      "8000/8000 [==============================] - 5s 634us/step - loss: 0.5855 - acc: 0.2453 - val_loss: 1.5263 - val_acc: 0.2126\n",
      "Epoch 12/15\n",
      "8000/8000 [==============================] - 5s 667us/step - loss: 0.5747 - acc: 0.2471 - val_loss: 1.5306 - val_acc: 0.2125\n",
      "Epoch 13/15\n",
      "8000/8000 [==============================] - 5s 617us/step - loss: 0.5655 - acc: 0.2483 - val_loss: 1.5323 - val_acc: 0.2113\n",
      "Epoch 14/15\n",
      "8000/8000 [==============================] - 5s 646us/step - loss: 0.5551 - acc: 0.2499 - val_loss: 1.5303 - val_acc: 0.2126\n",
      "Epoch 15/15\n",
      "8000/8000 [==============================] - 5s 644us/step - loss: 0.5454 - acc: 0.2522 - val_loss: 1.5327 - val_acc: 0.2134\n"
     ]
    },
    {
     "name": "stderr",
     "output_type": "stream",
     "text": [
      "/home/jonki/anaconda3/lib/python3.6/site-packages/keras/engine/topology.py:2344: UserWarning: Layer DecoderGRU was passed non-serializable keyword arguments: {'initial_state': [<tf.Tensor 'EncoderRNN_5/while/Exit_2:0' shape=(?, 100) dtype=float32>]}. They will not be included in the serialized model (and thus will be missing at deserialization time).\n",
      "  str(node.arguments) + '. They will not be included '\n"
     ]
    }
   ],
   "source": [
    "model.fit([enc_input_data, dec_input_data], dec_target_data,\n",
    "          batch_size=batch_size,\n",
    "          epochs=15,\n",
    "          validation_split=.2)\n",
    "model.save('seq2seq_word.h5')"
   ]
  },
  {
   "cell_type": "markdown",
   "metadata": {},
   "source": [
    "# Inference"
   ]
  },
  {
   "cell_type": "code",
   "execution_count": 72,
   "metadata": {},
   "outputs": [
    {
     "name": "stdout",
     "output_type": "stream",
     "text": [
      "decoder_inputs: (?, ?)\n",
      "embedded_dec_inputs (?, ?, 100)\n",
      "decoder_state_input_h: (?, 100)\n",
      "decoder_outputs: (?, ?, 4935)\n",
      "decoder_state_h (?, 100)\n",
      "Encoder Model\n",
      "_________________________________________________________________\n",
      "Layer (type)                 Output Shape              Param #   \n",
      "=================================================================\n",
      "EncoderInput (InputLayer)    (None, None)              0         \n",
      "_________________________________________________________________\n",
      "EncoderEmbedding (Embedding) (None, None, 100)         242000    \n",
      "_________________________________________________________________\n",
      "EncoderRNN (GRU)             [(None, 100), (None, 100) 60300     \n",
      "=================================================================\n",
      "Total params: 302,300\n",
      "Trainable params: 302,300\n",
      "Non-trainable params: 0\n",
      "_________________________________________________________________\n",
      "None\n",
      "Decoder Model\n",
      "__________________________________________________________________________________________________\n",
      "Layer (type)                    Output Shape         Param #     Connected to                     \n",
      "==================================================================================================\n",
      "InfDecoderInput (InputLayer)    (None, None)         0                                            \n",
      "__________________________________________________________________________________________________\n",
      "DecoderEmbedding (Embedding)    (None, None, 100)    493500      InfDecoderInput[0][0]            \n",
      "__________________________________________________________________________________________________\n",
      "decoder_state_input_h (InputLay (None, 100)          0                                            \n",
      "__________________________________________________________________________________________________\n",
      "DecoderGRU (GRU)                [(None, None, 100),  60300       DecoderEmbedding[4][0]           \n",
      "                                                                 decoder_state_input_h[0][0]      \n",
      "__________________________________________________________________________________________________\n",
      "FinalDense (Dense)              (None, None, 4935)   498435      DecoderGRU[4][0]                 \n",
      "==================================================================================================\n",
      "Total params: 1,052,235\n",
      "Trainable params: 1,052,235\n",
      "Non-trainable params: 0\n",
      "__________________________________________________________________________________________________\n",
      "None\n"
     ]
    }
   ],
   "source": [
    "encoder_model = Model(encoder_inputs, encoder_state_h) # ((?, ?), (?, 100))\n",
    "\n",
    "decoder_state_input_h = Input(shape=(latent_dim,), name='decoder_state_input_h')\n",
    "decoder_inputs = Input(shape=(None,), name='InfDecoderInput')\n",
    "embedded_dec_inputs = dec_output_embedding(decoder_inputs)\n",
    "decoder_outputs, decoder_state_h = decoder(embedded_dec_inputs, initial_state=decoder_state_input_h)\n",
    "decoder_outputs = decoder_dense(decoder_outputs)\n",
    "print('decoder_inputs:', decoder_inputs.shape)\n",
    "print('embedded_dec_inputs', embedded_dec_inputs.shape)\n",
    "print('decoder_state_input_h:', decoder_state_input_h.shape)\n",
    "print('decoder_outputs:', decoder_outputs.shape)\n",
    "print('decoder_state_h', decoder_state_h.shape)\n",
    "\n",
    "# decoder_inputs2 = Input(shape=(max_decoder_seq_len,), name='DecoderInput')\n",
    "decoder_model = Model(\n",
    "#     [decoder_inputs] + decoder_state_input_h,\n",
    "    [decoder_inputs, decoder_state_input_h],\n",
    "    [decoder_outputs, decoder_state_h],\n",
    "    name='InfDecoderModel'\n",
    ")\n",
    "print('Encoder Model')\n",
    "print(encoder_model.summary())\n",
    "print('Decoder Model')\n",
    "print(decoder_model.summary())"
   ]
  },
  {
   "cell_type": "code",
   "execution_count": 73,
   "metadata": {},
   "outputs": [
    {
     "name": "stdout",
     "output_type": "stream",
     "text": [
      "[target_seq, states_value] (1, 1) (1, 100)\n",
      "output_tokens (1, 1, 4935)\n",
      "h (1, 100)\n",
      "----\n",
      "input sentence: ['Go', '.']\n",
      "decoded sentence:  Va le chercher\n",
      "[target_seq, states_value] (1, 1) (1, 100)\n",
      "output_tokens (1, 1, 4935)\n",
      "h (1, 100)\n",
      "----\n",
      "input sentence: ['Run', '!']\n",
      "decoded sentence:  Va chercher votre\n",
      "[target_seq, states_value] (1, 1) (1, 100)\n",
      "output_tokens (1, 1, 4935)\n",
      "h (1, 100)\n",
      "----\n",
      "input sentence: ['Run', '!']\n",
      "decoded sentence:  Va chercher votre\n",
      "[target_seq, states_value] (1, 1) (1, 100)\n",
      "output_tokens (1, 1, 4935)\n",
      "h (1, 100)\n",
      "----\n",
      "input sentence: ['Wow', '!']\n",
      "decoded sentence:  Vous êtes en train\n",
      "[target_seq, states_value] (1, 1) (1, 100)\n",
      "output_tokens (1, 1, 4935)\n",
      "h (1, 100)\n",
      "----\n",
      "input sentence: ['Fire', '!']\n",
      "decoded sentence:  Laissez tomber\n",
      "[target_seq, states_value] (1, 1) (1, 100)\n",
      "output_tokens (1, 1, 4935)\n",
      "h (1, 100)\n",
      "----\n",
      "input sentence: ['Help', '!']\n",
      "decoded sentence:  Laissez tomber\n",
      "[target_seq, states_value] (1, 1) (1, 100)\n",
      "output_tokens (1, 1, 4935)\n",
      "h (1, 100)\n",
      "----\n",
      "input sentence: ['Jump', '.']\n",
      "decoded sentence:  Regarde de près\n",
      "[target_seq, states_value] (1, 1) (1, 100)\n",
      "output_tokens (1, 1, 4935)\n",
      "h (1, 100)\n",
      "----\n",
      "input sentence: ['Stop', '!']\n",
      "decoded sentence:  Arrêtez de hurler\n",
      "[target_seq, states_value] (1, 1) (1, 100)\n",
      "output_tokens (1, 1, 4935)\n",
      "h (1, 100)\n",
      "----\n",
      "input sentence: ['Stop', '!']\n",
      "decoded sentence:  Arrêtez de hurler\n",
      "[target_seq, states_value] (1, 1) (1, 100)\n",
      "output_tokens (1, 1, 4935)\n",
      "h (1, 100)\n",
      "----\n",
      "input sentence: ['Stop', '!']\n",
      "decoded sentence:  Arrêtez de hurler\n"
     ]
    }
   ],
   "source": [
    "def decode_sequence(input_seq):\n",
    "    states_value = encoder_model.predict(input_seq)\n",
    "#     target_seq = np.zeros((1, n_target_vocab)) # (n_samples, seq_len, n_vocab)\n",
    "    target_seq = np.zeros((1, 1)) # (n_samples, seq_len, n_vocab)\n",
    "\n",
    "#     target_seq[0, target_w2i['\\t']] = 1. # start character\n",
    "    target_seq[0, 0] = target_w2i['\\t'] # start character\n",
    "    \n",
    "    stop_cond = False\n",
    "    decoded_sentence = ''\n",
    "    ct = 0\n",
    "    while not stop_cond:\n",
    "        output_tokens, h = decoder_model.predict([target_seq, states_value])\n",
    "        if ct == 0:\n",
    "            print('[target_seq, states_value]', target_seq.shape, states_value.shape)\n",
    "            print('output_tokens', output_tokens.shape)\n",
    "            print('h', h.shape)\n",
    "            ct  += 1\n",
    "\n",
    "        sampled_token_index = np.argmax(output_tokens[0, -1, :])\n",
    "        sampled_word = target_i2w[sampled_token_index]\n",
    "        decoded_sentence += ' ' + sampled_word\n",
    "        \n",
    "        if sampled_word == '\\n' or len(decoded_sentence) > max_decoder_seq_len:\n",
    "            stop_cond = True\n",
    "        \n",
    "#         target_seq = np.zeros((1, n_target_vocab))\n",
    "#         target_seq[0, sampled_token_index] = 1.\n",
    "        target_seq = np.zeros((1, 1))\n",
    "        target_seq[0, 0] = sampled_token_index\n",
    "        \n",
    "        states_value = h\n",
    "    \n",
    "    return decoded_sentence\n",
    "\n",
    "for seq_idx in range(10):\n",
    "    input_seq = enc_input_data[seq_idx: seq_idx+1]\n",
    "    decoded_sentence = decode_sequence(input_seq)\n",
    "    print('----')\n",
    "    print('input sentence:', input_texts[seq_idx])\n",
    "    print('decoded sentence:', decoded_sentence)    "
   ]
  },
  {
   "cell_type": "code",
   "execution_count": null,
   "metadata": {
    "collapsed": true
   },
   "outputs": [],
   "source": []
  }
 ],
 "metadata": {
  "kernelspec": {
   "display_name": "Python 3",
   "language": "python",
   "name": "python3"
  },
  "language_info": {
   "codemirror_mode": {
    "name": "ipython",
    "version": 3
   },
   "file_extension": ".py",
   "mimetype": "text/x-python",
   "name": "python",
   "nbconvert_exporter": "python",
   "pygments_lexer": "ipython3",
   "version": "3.6.1"
  }
 },
 "nbformat": 4,
 "nbformat_minor": 2
}
