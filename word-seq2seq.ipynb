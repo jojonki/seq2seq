{
 "cells": [
  {
   "cell_type": "code",
   "execution_count": 1,
   "metadata": {},
   "outputs": [
    {
     "name": "stderr",
     "output_type": "stream",
     "text": [
      "Using TensorFlow backend.\n"
     ]
    }
   ],
   "source": [
    "from nltk.tokenize import word_tokenize\n",
    "from keras.models import Model\n",
    "from keras.layers import Input, LSTM, Dense, GRU, TimeDistributed, Activation\n",
    "from keras.layers.embeddings import Embedding\n",
    "import numpy as np"
   ]
  },
  {
   "cell_type": "code",
   "execution_count": 37,
   "metadata": {
    "collapsed": true
   },
   "outputs": [],
   "source": [
    "batch_size = 128\n",
    "n_epoch = 10\n",
    "latent_dim = 200\n",
    "n_samples = 10000\n",
    "data_path = 'fra-eng/fra.txt' # you have to download dataset from http://www.manythings.org/anki/"
   ]
  },
  {
   "cell_type": "code",
   "execution_count": 63,
   "metadata": {},
   "outputs": [],
   "source": [
    "input_texts, target_texts = [], []\n",
    "input_vocab, target_vocab = set(), set()\n",
    "lines = open(data_path).read().split('\\n')\n",
    "for line in lines[:min(n_samples, len(lines) -1)]:\n",
    "    in_txt, tg_txt = line.split('\\t', 1)\n",
    "    in_txt = word_tokenize(in_txt)\n",
    "    tg_txt = ['\\t'] + word_tokenize(tg_txt) + ['\\n']\n",
    "#     tg_txt = '\\t' + tg_txt + '\\n' # \\t for <start> word and \\n for <end> word for Decoder\n",
    "    input_texts.append(in_txt)\n",
    "    target_texts.append(tg_txt)\n",
    "    for w in in_txt:\n",
    "        if w not in input_vocab:\n",
    "            input_vocab.add(w)\n",
    "    for w in tg_txt:\n",
    "        if w not in target_vocab:\n",
    "            target_vocab.add(w)\n",
    "\n",
    "input_vocab = sorted(list(input_vocab))\n",
    "target_vocab = sorted(list(target_vocab)) \n",
    "n_input_vocab = len(input_vocab)\n",
    "n_target_vocab = len(target_vocab)\n",
    "max_encoder_seq_len = max([len(txt) for txt in input_texts])\n",
    "max_decoder_seq_len = max([len(txt) for txt in target_texts])"
   ]
  },
  {
   "cell_type": "code",
   "execution_count": 64,
   "metadata": {},
   "outputs": [
    {
     "name": "stdout",
     "output_type": "stream",
     "text": [
      "n_input_vocab 2420\n",
      "n_target_vocab 4935\n",
      "max enc len 6\n",
      "max dec len 14\n"
     ]
    }
   ],
   "source": [
    "print('n_input_vocab', n_input_vocab)\n",
    "print('n_target_vocab', n_target_vocab)\n",
    "print('max enc len', max_encoder_seq_len)\n",
    "print('max dec len', max_decoder_seq_len)"
   ]
  },
  {
   "cell_type": "code",
   "execution_count": 65,
   "metadata": {},
   "outputs": [
    {
     "name": "stdout",
     "output_type": "stream",
     "text": [
      "['Go', '.']\n",
      "['\\t', 'Va', '!', '\\n']\n"
     ]
    }
   ],
   "source": [
    "print(input_texts[0])\n",
    "print(target_texts[0])"
   ]
  },
  {
   "cell_type": "code",
   "execution_count": 66,
   "metadata": {},
   "outputs": [],
   "source": [
    "input_w2i = {w:i for i,w in enumerate(input_vocab)}\n",
    "input_i2w = {i:w for i,w in enumerate(input_vocab)}\n",
    "target_w2i = {w:i for i,w in enumerate(target_vocab)}\n",
    "target_i2w = {i:w for i,w in enumerate(target_vocab)}"
   ]
  },
  {
   "cell_type": "code",
   "execution_count": 68,
   "metadata": {},
   "outputs": [],
   "source": [
    "enc_input_data = np.zeros( (len(input_texts), max_encoder_seq_len) )\n",
    "dec_input_data = np.zeros( (len(input_texts), max_decoder_seq_len) )\n",
    "dec_target_data = np.zeros( (len(input_texts), max_decoder_seq_len, n_target_vocab) )\n",
    "\n",
    "for i, (in_text, tg_text) in enumerate(zip(input_texts, target_texts)):\n",
    "    for t, w in enumerate(in_text):\n",
    "        enc_input_data[i, t] = input_w2i[w]\n",
    "    for t, w in enumerate(tg_text):\n",
    "        dec_input_data[i, t] = target_w2i[w]\n",
    "        if t > 0:\n",
    "            dec_target_data[i, t-1, target_w2i[w]] = 1."
   ]
  },
  {
   "cell_type": "code",
   "execution_count": 69,
   "metadata": {},
   "outputs": [
    {
     "data": {
      "text/plain": [
       "(6,)"
      ]
     },
     "execution_count": 69,
     "metadata": {},
     "output_type": "execute_result"
    }
   ],
   "source": [
    "enc_input_data[0].shape"
   ]
  },
  {
   "cell_type": "code",
   "execution_count": null,
   "metadata": {
    "collapsed": true
   },
   "outputs": [],
   "source": []
  },
  {
   "cell_type": "code",
   "execution_count": 71,
   "metadata": {},
   "outputs": [
    {
     "name": "stdout",
     "output_type": "stream",
     "text": [
      "enc_input_data: (10000, 6)\n",
      "encInputs (?, 6)\n",
      "embd_enc_inputs (?, 6, 100)\n",
      "embedded_dec_inputs (?, 14, 100)\n",
      "decoder_coutputs (?, 14, 4935)\n",
      "__________________________________________________________________________________________________\n",
      "Layer (type)                    Output Shape         Param #     Connected to                     \n",
      "==================================================================================================\n",
      "DecoderInput (InputLayer)       (None, 14)           0                                            \n",
      "__________________________________________________________________________________________________\n",
      "EncoderInput (InputLayer)       (None, 6)            0                                            \n",
      "__________________________________________________________________________________________________\n",
      "DecoderEmbedding (Embedding)    (None, 14, 100)      493500      DecoderInput[0][0]               \n",
      "__________________________________________________________________________________________________\n",
      "EncoderEmbedding (Embedding)    (None, 6, 100)       242000      EncoderInput[0][0]               \n",
      "__________________________________________________________________________________________________\n",
      "activation_10 (Activation)      (None, 14, 100)      0           DecoderEmbedding[0][0]           \n",
      "__________________________________________________________________________________________________\n",
      "EncoderRNN (GRU)                [(None, 200), (None, 180600      EncoderEmbedding[0][0]           \n",
      "__________________________________________________________________________________________________\n",
      "DecoderGRU (GRU)                [(None, 14, 200), (N 180600      activation_10[0][0]              \n",
      "                                                                 EncoderRNN[0][1]                 \n",
      "__________________________________________________________________________________________________\n",
      "time_distributed_4 (TimeDistrib (None, 14, 4935)     991935      DecoderGRU[0][0]                 \n",
      "==================================================================================================\n",
      "Total params: 2,088,635\n",
      "Trainable params: 2,088,635\n",
      "Non-trainable params: 0\n",
      "__________________________________________________________________________________________________\n",
      "None\n",
      "Train on 8000 samples, validate on 2000 samples\n",
      "Epoch 1/1\n",
      "8000/8000 [==============================] - 6s 783us/step - loss: 2.2409 - acc: 0.0809 - val_loss: 2.1366 - val_acc: 0.0918\n"
     ]
    },
    {
     "data": {
      "text/plain": [
       "<keras.callbacks.History at 0x7f18e0a01a58>"
      ]
     },
     "execution_count": 71,
     "metadata": {},
     "output_type": "execute_result"
    }
   ],
   "source": [
    "print('enc_input_data:', enc_input_data.shape) # (N, seq_len, vocab_size)\n",
    "# Encoder\n",
    "embd_size = 100\n",
    "encoder_inputs = Input(shape=(max_encoder_seq_len, ), name='EncoderInput')\n",
    "print('encInputs', encoder_inputs.shape)\n",
    "enc_input_embedding = Embedding(input_dim=n_input_vocab, output_dim=embd_size, input_length=max_encoder_seq_len, name='EncoderEmbedding')\n",
    "embedded_enc_inputs = enc_input_embedding(encoder_inputs)\n",
    "print('embd_enc_inputs', embedded_enc_inputs.shape)\n",
    "encoder = GRU(latent_dim, return_state=True, name='EncoderRNN')\n",
    "encoder_outputs, encoder_state_h = encoder(embedded_enc_inputs)\n",
    "# encoder_states = [state_h] # The decoder use only last output of the encoder and discard encoder_outputs\n",
    "# print(state_h.shape, encoder_states[0].shape)\n",
    "\n",
    "# Decoder\n",
    "decoder_inputs = Input(shape=(max_decoder_seq_len,), name='DecoderInput')\n",
    "dec_output_embedding = Embedding(input_dim=n_target_vocab, output_dim=embd_size, input_length=max_decoder_seq_len, name='DecoderEmbedding')\n",
    "embedded_dec_inputs = Activation('relu')(dec_output_embedding(decoder_inputs))\n",
    "decoder = GRU(latent_dim, return_sequences=True, return_state=True, name='DecoderGRU')\n",
    "print('embedded_dec_inputs', embedded_dec_inputs.shape)\n",
    "decoder_outputs, _ = decoder(embedded_dec_inputs, initial_state=encoder_state_h)\n",
    "# decoder_dense = TimeDistributed(Dense(n_target_vocab, activation='softmax', name='FinalDense'))\n",
    "decoder_dense = TimeDistributed(Dense(n_target_vocab, activation='softmax', name='FinalDense'))\n",
    "decoder_outputs = decoder_dense(decoder_outputs)\n",
    "print('decoder_coutputs', decoder_outputs.shape)\n",
    "model = Model([encoder_inputs, decoder_inputs], decoder_outputs)\n",
    "model.compile(optimizer='adam', loss='categorical_crossentropy', metrics=['accuracy'])\n",
    "print(model.summary())\n",
    "model.fit([enc_input_data, dec_input_data], dec_target_data,\n",
    "          batch_size=batch_size,\n",
    "          epochs=1,\n",
    "          validation_split=.2)"
   ]
  },
  {
   "cell_type": "code",
   "execution_count": 72,
   "metadata": {},
   "outputs": [
    {
     "name": "stderr",
     "output_type": "stream",
     "text": [
      "/home/jonki/anaconda3/lib/python3.6/site-packages/keras/engine/topology.py:2344: UserWarning: Layer DecoderGRU was passed non-serializable keyword arguments: {'initial_state': [<tf.Tensor 'EncoderRNN_9/while/Exit_2:0' shape=(?, 200) dtype=float32>]}. They will not be included in the serialized model (and thus will be missing at deserialization time).\n",
      "  str(node.arguments) + '. They will not be included '\n"
     ]
    }
   ],
   "source": [
    "model.save('seq2seq_word.h5')"
   ]
  },
  {
   "cell_type": "markdown",
   "metadata": {},
   "source": [
    "# Inference"
   ]
  },
  {
   "cell_type": "code",
   "execution_count": 78,
   "metadata": {},
   "outputs": [
    {
     "name": "stdout",
     "output_type": "stream",
     "text": [
      "decoder_inputs (?, 14)\n",
      "embedded_dec_inputs_2 (?, 14, 100)\n",
      "decoder_outputs2 (?, ?, 14, 200)\n"
     ]
    },
    {
     "ename": "ValueError",
     "evalue": "Input 0 is incompatible with layer time_distributed_4: expected ndim=3, found ndim=4",
     "output_type": "error",
     "traceback": [
      "\u001b[0;31m---------------------------------------------------------------------------\u001b[0m",
      "\u001b[0;31mValueError\u001b[0m                                Traceback (most recent call last)",
      "\u001b[0;32m<ipython-input-78-26884c874712>\u001b[0m in \u001b[0;36m<module>\u001b[0;34m()\u001b[0m\n\u001b[1;32m      9\u001b[0m \u001b[0mprint\u001b[0m\u001b[0;34m(\u001b[0m\u001b[0;34m'decoder_outputs2'\u001b[0m\u001b[0;34m,\u001b[0m \u001b[0mdecoder_outputs2\u001b[0m\u001b[0;34m.\u001b[0m\u001b[0mshape\u001b[0m\u001b[0;34m)\u001b[0m\u001b[0;34m\u001b[0m\u001b[0m\n\u001b[1;32m     10\u001b[0m \u001b[0;31m# decoder_states = [state_h]\u001b[0m\u001b[0;34m\u001b[0m\u001b[0;34m\u001b[0m\u001b[0m\n\u001b[0;32m---> 11\u001b[0;31m \u001b[0mdecoder_outputs\u001b[0m \u001b[0;34m=\u001b[0m \u001b[0mdecoder_dense\u001b[0m\u001b[0;34m(\u001b[0m\u001b[0mdecoder_outputs2\u001b[0m\u001b[0;34m)\u001b[0m\u001b[0;34m\u001b[0m\u001b[0m\n\u001b[0m\u001b[1;32m     12\u001b[0m \u001b[0mprint\u001b[0m\u001b[0;34m(\u001b[0m\u001b[0;34m'dec_inputs:'\u001b[0m\u001b[0;34m,\u001b[0m \u001b[0mdecoder_inputs\u001b[0m\u001b[0;34m.\u001b[0m\u001b[0mshape\u001b[0m\u001b[0;34m)\u001b[0m\u001b[0;34m\u001b[0m\u001b[0m\n\u001b[1;32m     13\u001b[0m \u001b[0mprint\u001b[0m\u001b[0;34m(\u001b[0m\u001b[0;34m'dec_state-input_h:'\u001b[0m\u001b[0;34m,\u001b[0m \u001b[0mdecoder_state_input_h\u001b[0m\u001b[0;34m.\u001b[0m\u001b[0mshape\u001b[0m\u001b[0;34m)\u001b[0m\u001b[0;34m\u001b[0m\u001b[0m\n",
      "\u001b[0;32m~/anaconda3/lib/python3.6/site-packages/keras/engine/topology.py\u001b[0m in \u001b[0;36m__call__\u001b[0;34m(self, inputs, **kwargs)\u001b[0m\n\u001b[1;32m    585\u001b[0m             \u001b[0;31m# Raise exceptions in case the input is not compatible\u001b[0m\u001b[0;34m\u001b[0m\u001b[0;34m\u001b[0m\u001b[0m\n\u001b[1;32m    586\u001b[0m             \u001b[0;31m# with the input_spec set at build time.\u001b[0m\u001b[0;34m\u001b[0m\u001b[0;34m\u001b[0m\u001b[0m\n\u001b[0;32m--> 587\u001b[0;31m             \u001b[0mself\u001b[0m\u001b[0;34m.\u001b[0m\u001b[0massert_input_compatibility\u001b[0m\u001b[0;34m(\u001b[0m\u001b[0minputs\u001b[0m\u001b[0;34m)\u001b[0m\u001b[0;34m\u001b[0m\u001b[0m\n\u001b[0m\u001b[1;32m    588\u001b[0m \u001b[0;34m\u001b[0m\u001b[0m\n\u001b[1;32m    589\u001b[0m             \u001b[0;31m# Handle mask propagation.\u001b[0m\u001b[0;34m\u001b[0m\u001b[0;34m\u001b[0m\u001b[0m\n",
      "\u001b[0;32m~/anaconda3/lib/python3.6/site-packages/keras/engine/topology.py\u001b[0m in \u001b[0;36massert_input_compatibility\u001b[0;34m(self, inputs)\u001b[0m\n\u001b[1;32m    456\u001b[0m                                      \u001b[0mself\u001b[0m\u001b[0;34m.\u001b[0m\u001b[0mname\u001b[0m \u001b[0;34m+\u001b[0m \u001b[0;34m': expected ndim='\u001b[0m \u001b[0;34m+\u001b[0m\u001b[0;34m\u001b[0m\u001b[0m\n\u001b[1;32m    457\u001b[0m                                      \u001b[0mstr\u001b[0m\u001b[0;34m(\u001b[0m\u001b[0mspec\u001b[0m\u001b[0;34m.\u001b[0m\u001b[0mndim\u001b[0m\u001b[0;34m)\u001b[0m \u001b[0;34m+\u001b[0m \u001b[0;34m', found ndim='\u001b[0m \u001b[0;34m+\u001b[0m\u001b[0;34m\u001b[0m\u001b[0m\n\u001b[0;32m--> 458\u001b[0;31m                                      str(K.ndim(x)))\n\u001b[0m\u001b[1;32m    459\u001b[0m             \u001b[0;32mif\u001b[0m \u001b[0mspec\u001b[0m\u001b[0;34m.\u001b[0m\u001b[0mmax_ndim\u001b[0m \u001b[0;32mis\u001b[0m \u001b[0;32mnot\u001b[0m \u001b[0;32mNone\u001b[0m\u001b[0;34m:\u001b[0m\u001b[0;34m\u001b[0m\u001b[0m\n\u001b[1;32m    460\u001b[0m                 \u001b[0mndim\u001b[0m \u001b[0;34m=\u001b[0m \u001b[0mK\u001b[0m\u001b[0;34m.\u001b[0m\u001b[0mndim\u001b[0m\u001b[0;34m(\u001b[0m\u001b[0mx\u001b[0m\u001b[0;34m)\u001b[0m\u001b[0;34m\u001b[0m\u001b[0m\n",
      "\u001b[0;31mValueError\u001b[0m: Input 0 is incompatible with layer time_distributed_4: expected ndim=3, found ndim=4"
     ]
    }
   ],
   "source": [
    "encoder_model = Model(encoder_inputs, encoder_state_h)\n",
    "decoder_state_input_h = Input(shape=(max_decoder_seq_len, latent_dim,))\n",
    "# decoder_state_input_c = Input(shape=(latent_dim,))\n",
    "# decoder_states_inputs = [decoder_state_input_h]\n",
    "embedded_dec_inputs_2 = dec_output_embedding(decoder_inputs)\n",
    "print('decoder_inputs', decoder_inputs.shape)\n",
    "print('embedded_dec_inputs_2', embedded_dec_inputs_2.shape)\n",
    "decoder_outputs2, decoder_state_h = decoder(embedded_dec_inputs_2, initial_state=decoder_state_input_h)\n",
    "print('decoder_outputs2', decoder_outputs2.shape)\n",
    "# decoder_states = [state_h]\n",
    "decoder_outputs = decoder_dense(decoder_outputs2)\n",
    "print('dec_inputs:', decoder_inputs.shape)\n",
    "print('dec_state-input_h:', decoder_state_input_h.shape)\n",
    "decoder_model = Model(\n",
    "    [decoder_inputs] + decoder_state_input_h,\n",
    "    [decoder_outputs] + decoder_states\n",
    ")\n",
    "print('Encoder Model')\n",
    "print(encoder_model.summary())\n",
    "print('Decoder Model')\n",
    "print(decoder_model.summary())"
   ]
  },
  {
   "cell_type": "code",
   "execution_count": null,
   "metadata": {
    "collapsed": true
   },
   "outputs": [],
   "source": [
    "def decode_sequence(input_seq):\n",
    "    states_value = encoder_model.predict(input_seq)\n",
    "    \n",
    "    target_seq = np.zeros((1, 1, n_target_vocab)) # (n_samples, seq_len, n_vocab)\n",
    "    target_seq[0, 0, target_w2i['\\t']] = 1. # start character\n",
    "    \n",
    "    stop_cond = False\n",
    "    decoded_sentence = ''\n",
    "    while not stop_cond:\n",
    "        output_tokens, h, c = decoder_model.predict([target_seq] + states_value)\n",
    "        sampled_token_index = np.argmax(output_tokens[0, -1, :])\n",
    "        sampled_word = target_i2w[sampled_token_index]\n",
    "        decoded_sentence += sampled_char\n",
    "        \n",
    "        if sampled_word == '\\n' or len(decoded_sentence) > max_decoder_seq_len:\n",
    "            stop_cond = True\n",
    "        \n",
    "        target_seq = np.zeros((1, 1, n_target_vocab))\n",
    "        target_seq[0, 0, sampled_token_index] = 1.\n",
    "        \n",
    "        states_value = [h, c]\n",
    "    \n",
    "    return decoded_sentence\n",
    "\n",
    "for seq_idx in range(100):\n",
    "    input_seq = enc_input_data[seq_idx: seq_idx+1]\n",
    "    decoded_sentence = decode_sequence(input_seq)\n",
    "    print('----')\n",
    "    print('input sentence:', input_texts[seq_idx])\n",
    "    print('decoded sentence:', decoded_sentence)    "
   ]
  },
  {
   "cell_type": "code",
   "execution_count": null,
   "metadata": {
    "collapsed": true
   },
   "outputs": [],
   "source": []
  },
  {
   "cell_type": "code",
   "execution_count": null,
   "metadata": {
    "collapsed": true
   },
   "outputs": [],
   "source": []
  }
 ],
 "metadata": {
  "kernelspec": {
   "display_name": "Python 3",
   "language": "python",
   "name": "python3"
  },
  "language_info": {
   "codemirror_mode": {
    "name": "ipython",
    "version": 3
   },
   "file_extension": ".py",
   "mimetype": "text/x-python",
   "name": "python",
   "nbconvert_exporter": "python",
   "pygments_lexer": "ipython3",
   "version": "3.6.1"
  }
 },
 "nbformat": 4,
 "nbformat_minor": 2
}
